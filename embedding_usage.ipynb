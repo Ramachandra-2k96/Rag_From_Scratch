{
 "cells": [
  {
   "cell_type": "code",
   "execution_count": 1,
   "metadata": {},
   "outputs": [],
   "source": [
    "import os\n",
    "from typing import List, Tuple\n",
    "\n",
    "from langchain.document_loaders import PyPDFLoader\n",
    "from langchain.text_splitter import RecursiveCharacterTextSplitter\n",
    "from langchain.vectorstores import Chroma\n",
    "from langchain.embeddings import OllamaEmbeddings\n",
    "from langchain.llms import Ollama\n",
    "from langchain.retrievers import BM25Retriever, EnsembleRetriever\n",
    "from langchain.retrievers.document_compressors import LLMChainExtractor\n",
    "from langchain.retrievers import ContextualCompressionRetriever\n",
    "from langchain.chains import RetrievalQA"
   ]
  },
  {
   "cell_type": "code",
   "execution_count": 2,
   "metadata": {},
   "outputs": [],
   "source": [
    "# Initialize Ollama embedding model\n",
    "embeddings = OllamaEmbeddings(model=\"nomic-embed-text\")\n",
    "# Load and preprocess PDF document\n",
    "loader = PyPDFLoader(\"OSHA -Module 1.pdf\")\n",
    "documents = loader.load()\n",
    "text_splitter = RecursiveCharacterTextSplitter(chunk_size=1000, chunk_overlap=200)\n",
    "splits = text_splitter.split_documents(documents)"
   ]
  },
  {
   "cell_type": "code",
   "execution_count": 3,
   "metadata": {},
   "outputs": [],
   "source": [
    "# Create Chroma vector store\n",
    "vectorstore = Chroma.from_documents(documents=splits, embedding=embeddings)\n",
    "# Initialize Ollama LLM\n",
    "llm = Ollama(model=\"mistral:instruct\")"
   ]
  },
  {
   "cell_type": "code",
   "execution_count": 4,
   "metadata": {},
   "outputs": [],
   "source": [
    "# Dense Passage Retrieval\n",
    "dense_retriever = vectorstore.as_retriever(search_type=\"similarity\", search_kwargs={\"k\": 2})\n",
    "\n",
    "# BM25 (Sparse) Retrieval\n",
    "bm25_retriever = BM25Retriever.from_documents(splits)\n",
    "bm25_retriever.k = 2"
   ]
  },
  {
   "cell_type": "code",
   "execution_count": 5,
   "metadata": {},
   "outputs": [],
   "source": [
    "# Hybrid Retrieval (combining dense and sparse methods)\n",
    "ensemble_retriever = EnsembleRetriever(\n",
    "    retrievers=[dense_retriever, bm25_retriever],\n",
    "    weights=[0.5, 0.5]\n",
    ")"
   ]
  },
  {
   "cell_type": "code",
   "execution_count": 6,
   "metadata": {},
   "outputs": [],
   "source": [
    "# Re-ranking with LLM\n",
    "compressor = LLMChainExtractor.from_llm(llm)\n",
    "compression_retriever = ContextualCompressionRetriever(\n",
    "    base_compressor=compressor,\n",
    "    base_retriever=ensemble_retriever\n",
    ")"
   ]
  },
  {
   "cell_type": "code",
   "execution_count": 7,
   "metadata": {},
   "outputs": [],
   "source": [
    "# Create RetrievalQA chain\n",
    "qa_chain = RetrievalQA.from_chain_type(\n",
    "    llm=llm,\n",
    "    chain_type=\"stuff\",\n",
    "    retriever=compression_retriever,\n",
    "    return_source_documents=True\n",
    ")"
   ]
  },
  {
   "cell_type": "code",
   "execution_count": 8,
   "metadata": {},
   "outputs": [],
   "source": [
    "\n",
    "def print_retrieval_results(documents: List[str], method: str):\n",
    "    print(f\"\\n{method} Retrieval Results:\")\n",
    "    for i, doc in enumerate(documents, 1):\n",
    "        print(f\"{i}. {doc[:100]}...\")  # Print first 100 characters of each document\n"
   ]
  },
  {
   "cell_type": "code",
   "execution_count": 9,
   "metadata": {},
   "outputs": [
    {
     "name": "stderr",
     "output_type": "stream",
     "text": [
      "/tmp/ipykernel_1460796/1481019516.py:12: LangChainDeprecationWarning: The method `BaseRetriever.get_relevant_documents` was deprecated in langchain-core 0.1.46 and will be removed in 1.0. Use invoke instead.\n",
      "  dense_docs = dense_retriever.get_relevant_documents(query)\n"
     ]
    },
    {
     "name": "stdout",
     "output_type": "stream",
     "text": [
      "\n",
      "Dense Retrieval Results:\n",
      "1. OSHA’S MISSION AND PURPOSE\n",
      "•Encourage employers andemployees toreduce workplace hazards .\n",
      "•Implement...\n",
      "2. WORK INJURIES BY TYPE OF ACCIDENT\n",
      "Work injuries can be classified by the type of accident from which...\n",
      "\n",
      "BM25 (Sparse) Retrieval Results:\n",
      "1. When death rates are computed on the basis of the number of \n",
      "deaths per 100,000 workers in a given y...\n",
      "2. •Theenvironment inwhich themachine operator is\n",
      "working isunusually hectic ,and thepressure to\n",
      "comple...\n",
      "\n",
      "Hybrid Retrieval Results:\n",
      "1. OSHA’S MISSION AND PURPOSE\n",
      "•Encourage employers andemployees toreduce workplace hazards .\n",
      "•Implement...\n",
      "2. When death rates are computed on the basis of the number of \n",
      "deaths per 100,000 workers in a given y...\n",
      "3. WORK INJURIES BY TYPE OF ACCIDENT\n",
      "Work injuries can be classified by the type of accident from which...\n",
      "4. •Theenvironment inwhich themachine operator is\n",
      "working isunusually hectic ,and thepressure to\n",
      "comple...\n",
      "\n",
      "Re-ranked Retrieval Results:\n",
      "1. 1. OSHA’S MISSION AND PURPOSE\n",
      "   - Implement new safety and health programs.\n",
      "   - Improve existing s...\n",
      "2. 1. OSHA (Occupational Safety and Health Administration) is not explicitly mentioned in the context, ...\n",
      "3. 1. \"OSHA\" is not explicitly defined in the provided context, but it can be inferred that OSHA (Occup...\n",
      "4. 1. \"The environment in which the machine operator is working is unusually hectic,\"\n",
      "   2. \"These fact...\n"
     ]
    },
    {
     "name": "stderr",
     "output_type": "stream",
     "text": [
      "/tmp/ipykernel_1460796/1481019516.py:28: LangChainDeprecationWarning: The method `Chain.__call__` was deprecated in langchain 0.1.0 and will be removed in 0.3.0. Use invoke instead.\n",
      "  result = qa_chain({\"query\": query})\n"
     ]
    },
    {
     "name": "stdout",
     "output_type": "stream",
     "text": [
      "Query: What is OSHA? When this term come into picture.What are the majour incidents that laed to implimentation of workers safety?\n",
      "Answer:  OSHA (Occupational Safety and Health Administration) is a U.S. government agency responsible for safety and health program regulation in most U.S. workplaces. It was established by the Occupational Safety and Health Act of 1970, primarily due to a series of major incidents involving high death rates in various industries such as Mining/quarrying, Agriculture, Construction, Transportation/public utilities, Manufacturing, Services, Trade.\n",
      "\n",
      "The major incidents that led to the implementation of worker safety included accidents like overexertion, impact accidents, falls, bodily reactions (to chemicals), compression, motor vehicle accidents, exposure to radiation or caustics, rubbing or abrasions, and exposure to extreme temperatures. These accidents often occurred due to factors such as a hectic work environment, pressure to complete tasks on time, and stressors that could cloud judgment and increase the likelihood of an accident.\n",
      "Sources:\n",
      "1. 1. OSHA’S MISSION AND PURPOSE\n",
      "• Encourage employers and employees to reduce workplace hazards.\n",
      "• Imp...\n",
      "2. 1. The term OSHA (Occupational Safety and Health Administration) is not explicitly mentioned in the ...\n",
      "3. •Overexertion\n",
      "•Impact accidents\n",
      "•Falls\n",
      "•Bodily reaction (to chemicals)\n",
      "•Compression\n",
      "•Motor vehicle a...\n",
      "4. 1. The context does not directly answer the question about OSHA or the major incidents leading to it...\n"
     ]
    }
   ],
   "source": [
    "def process_query(query: str) -> Tuple[str, List[str]]:\n",
    "    \"\"\"\n",
    "    Process a query using the RetrievalQA chain and print intermediate retrieval results.\n",
    "    \n",
    "    Args:\n",
    "        query (str): The input query.\n",
    "    \n",
    "    Returns:\n",
    "        Tuple[str, List[str]]: The answer and a list of source documents.\n",
    "    \"\"\"\n",
    "    # Dense retrieval\n",
    "    dense_docs = dense_retriever.get_relevant_documents(query)\n",
    "    print_retrieval_results([doc.page_content for doc in dense_docs], \"Dense\")\n",
    "\n",
    "    # BM25 retrieval\n",
    "    bm25_docs = bm25_retriever.get_relevant_documents(query)\n",
    "    print_retrieval_results([doc.page_content for doc in bm25_docs], \"BM25 (Sparse)\")\n",
    "\n",
    "    # Hybrid retrieval\n",
    "    hybrid_docs = ensemble_retriever.get_relevant_documents(query)\n",
    "    print_retrieval_results([doc.page_content for doc in hybrid_docs], \"Hybrid\")\n",
    "\n",
    "    # Re-ranking\n",
    "    reranked_docs = compression_retriever.get_relevant_documents(query)\n",
    "    print_retrieval_results([doc.page_content for doc in reranked_docs], \"Re-ranked\")\n",
    "\n",
    "    # Final QA\n",
    "    result = qa_chain({\"query\": query})\n",
    "    answer = result['result']\n",
    "    source_documents = [doc.page_content for doc in result['source_documents']]\n",
    "    \n",
    "    return answer, source_documents\n",
    "\n",
    "# Example usage\n",
    "query = \"What is OSHA? When this term come into picture.What are the majour incidents that laed to implimentation of workers safety?\"\n",
    "answer, sources = process_query(query)\n",
    "print(f\"Query: {query}\")\n",
    "print(f\"Answer: {answer}\")\n",
    "print(\"Sources:\")\n",
    "for i, source in enumerate(sources, 1):\n",
    "    print(f\"{i}. {source[:100]}...\")  # Print first 100 characters of each source"
   ]
  }
 ],
 "metadata": {
  "kernelspec": {
   "display_name": "Python 3",
   "language": "python",
   "name": "python3"
  },
  "language_info": {
   "codemirror_mode": {
    "name": "ipython",
    "version": 3
   },
   "file_extension": ".py",
   "mimetype": "text/x-python",
   "name": "python",
   "nbconvert_exporter": "python",
   "pygments_lexer": "ipython3",
   "version": "3.11.9"
  }
 },
 "nbformat": 4,
 "nbformat_minor": 2
}
