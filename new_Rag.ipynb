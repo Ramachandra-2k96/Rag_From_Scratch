{
 "cells": [
  {
   "cell_type": "markdown",
   "metadata": {},
   "source": [
    "# Document preprosesing and embedding creation\n",
    "\n",
    "### steps:\n",
    "* import pdf\n",
    "* convert chunks\n",
    "* embed checks \n",
    "* save embeding"
   ]
  },
  {
   "cell_type": "code",
   "execution_count": 35,
   "metadata": {},
   "outputs": [],
   "source": [
    "import os\n",
    "import requests\n",
    "import ollama\n",
    "pdf_path = 'OSHA -Module 1.pdf'"
   ]
  },
  {
   "cell_type": "markdown",
   "metadata": {},
   "source": [
    "!pip install pymupdf"
   ]
  },
  {
   "cell_type": "code",
   "execution_count": 36,
   "metadata": {},
   "outputs": [
    {
     "name": "stderr",
     "output_type": "stream",
     "text": [
      "Loading Document ..: 123it [00:00, 472.05it/s]\n"
     ]
    },
    {
     "data": {
      "text/plain": [
       "[{'page_number': 1,\n",
       "  'page_char_count': 43,\n",
       "  'page_word_count': 6,\n",
       "  'page_sentense_count': 1,\n",
       "  'page_token_count': 10.75,\n",
       "  'text': 'Occupational Hazard and Control  Principles'},\n",
       " {'page_number': 2,\n",
       "  'page_char_count': 496,\n",
       "  'page_word_count': 86,\n",
       "  'page_sentense_count': 2,\n",
       "  'page_token_count': 124.0,\n",
       "  'text': 'World Health Organization • Occupational health deals with all aspects of health  and safety in the workplace and has a strong focus  on primary prevention of hazards • Health has been defined as -a state of complete  physical, mental and social well-being and not  merely the absence of disease or infirmity • Occupational health is a multidisciplinary field  of healthcare concerned with enabling an individual  to undertake their occupation, in the way that causes  least harm to their health.'}]"
      ]
     },
     "execution_count": 36,
     "metadata": {},
     "output_type": "execute_result"
    }
   ],
   "source": [
    "import fitz\n",
    "from tqdm import tqdm\n",
    "def text_formatter(text : str) -> str:\n",
    "    \"\"\"# Document preprosesing and embedding creation\"\"\"\n",
    "    cleaned_text = text.replace(\"\\n\",\" \").strip() \n",
    "    return cleaned_text\n",
    "    \n",
    "def open_and_read(pdf_path):\n",
    "    doc = fitz.open(pdf_path)\n",
    "    pages_and_text = []\n",
    "    for pagenumber, page in tqdm(enumerate(doc),desc = \"Loading Document ..\"):\n",
    "        text = page.get_text()\n",
    "        text = text_formatter(text=text)\n",
    "        pages_and_text.append({\n",
    "            \"page_number\":pagenumber+1,\n",
    "            \"page_char_count\":len(text),\n",
    "            \"page_word_count\":len(text.split(\" \")),\n",
    "            \"page_sentense_count\":len(text.split('.')),\n",
    "            \"page_token_count\":len(text) / 4,\n",
    "            \"text\":text\n",
    "            })\n",
    "    return pages_and_text\n",
    "\n",
    "pages_and_text = open_and_read(pdf_path=pdf_path)\n",
    "pages_and_text[:2]"
   ]
  },
  {
   "cell_type": "code",
   "execution_count": 37,
   "metadata": {},
   "outputs": [
    {
     "data": {
      "text/html": [
       "<div>\n",
       "<style scoped>\n",
       "    .dataframe tbody tr th:only-of-type {\n",
       "        vertical-align: middle;\n",
       "    }\n",
       "\n",
       "    .dataframe tbody tr th {\n",
       "        vertical-align: top;\n",
       "    }\n",
       "\n",
       "    .dataframe thead th {\n",
       "        text-align: right;\n",
       "    }\n",
       "</style>\n",
       "<table border=\"1\" class=\"dataframe\">\n",
       "  <thead>\n",
       "    <tr style=\"text-align: right;\">\n",
       "      <th></th>\n",
       "      <th>page_number</th>\n",
       "      <th>page_char_count</th>\n",
       "      <th>page_word_count</th>\n",
       "      <th>page_sentense_count</th>\n",
       "      <th>page_token_count</th>\n",
       "      <th>text</th>\n",
       "    </tr>\n",
       "  </thead>\n",
       "  <tbody>\n",
       "    <tr>\n",
       "      <th>0</th>\n",
       "      <td>1</td>\n",
       "      <td>43</td>\n",
       "      <td>6</td>\n",
       "      <td>1</td>\n",
       "      <td>10.75</td>\n",
       "      <td>Occupational Hazard and Control  Principles</td>\n",
       "    </tr>\n",
       "    <tr>\n",
       "      <th>1</th>\n",
       "      <td>2</td>\n",
       "      <td>496</td>\n",
       "      <td>86</td>\n",
       "      <td>2</td>\n",
       "      <td>124.00</td>\n",
       "      <td>World Health Organization • Occupational healt...</td>\n",
       "    </tr>\n",
       "    <tr>\n",
       "      <th>2</th>\n",
       "      <td>3</td>\n",
       "      <td>361</td>\n",
       "      <td>56</td>\n",
       "      <td>5</td>\n",
       "      <td>90.25</td>\n",
       "      <td>• The safety movement in the United States has...</td>\n",
       "    </tr>\n",
       "    <tr>\n",
       "      <th>3</th>\n",
       "      <td>4</td>\n",
       "      <td>819</td>\n",
       "      <td>117</td>\n",
       "      <td>2</td>\n",
       "      <td>204.75</td>\n",
       "      <td>Change over the past three decades Some of the...</td>\n",
       "    </tr>\n",
       "    <tr>\n",
       "      <th>4</th>\n",
       "      <td>5</td>\n",
       "      <td>604</td>\n",
       "      <td>110</td>\n",
       "      <td>5</td>\n",
       "      <td>151.00</td>\n",
       "      <td>Definitions • Ergonomics: is the process of de...</td>\n",
       "    </tr>\n",
       "  </tbody>\n",
       "</table>\n",
       "</div>"
      ],
      "text/plain": [
       "   page_number  page_char_count  page_word_count  page_sentense_count  \\\n",
       "0            1               43                6                    1   \n",
       "1            2              496               86                    2   \n",
       "2            3              361               56                    5   \n",
       "3            4              819              117                    2   \n",
       "4            5              604              110                    5   \n",
       "\n",
       "   page_token_count                                               text  \n",
       "0             10.75        Occupational Hazard and Control  Principles  \n",
       "1            124.00  World Health Organization • Occupational healt...  \n",
       "2             90.25  • The safety movement in the United States has...  \n",
       "3            204.75  Change over the past three decades Some of the...  \n",
       "4            151.00  Definitions • Ergonomics: is the process of de...  "
      ]
     },
     "execution_count": 37,
     "metadata": {},
     "output_type": "execute_result"
    }
   ],
   "source": [
    "import pandas as pd\n",
    "dataframe = pd.DataFrame(pages_and_text)\n",
    "dataframe.head()"
   ]
  },
  {
   "cell_type": "code",
   "execution_count": 38,
   "metadata": {},
   "outputs": [],
   "source": [
    "from numpy.linalg import norm\n",
    "import numpy as np\n",
    "import json\n",
    "def get_embedding(model, chunks):\n",
    "    embeddings = []\n",
    "    for chunk in tqdm(chunks, desc=\"Generating embeddings\", unit=\" chunks\"):\n",
    "        try:\n",
    "            response = ollama.embeddings(model=model, prompt=chunk)\n",
    "            embedding = response['embedding']\n",
    "            if len(embedding) > 0:  # Ensure the embedding is not empty\n",
    "                embeddings.append(embedding)\n",
    "            else:\n",
    "                print(f\"Empty embedding generated for chunk: {chunk[:30]}...\")  # Print the first 30 characters of the chunk for context\n",
    "        except Exception as e:\n",
    "            print(f\"Error generating embedding for chunk: {e}\")\n",
    "            continue\n",
    "    return embeddings\n",
    "\n",
    "def make_embedding_and_save(file_path,model,chunks):\n",
    "    if not os.path.exists(file_path):\n",
    "        with open(file_path, \"w\") as f:\n",
    "            embedding = get_embedding(model=model, chunks=chunks)\n",
    "            json.dump(embedding, f)\n",
    "            return embedding\n",
    "    else:\n",
    "        with open(file_path, 'r') as f:\n",
    "            return json.load(f)\n"
   ]
  },
  {
   "cell_type": "code",
   "execution_count": 39,
   "metadata": {},
   "outputs": [],
   "source": [
    "def find_most_similar(needle, haystack):\n",
    "    needle_norm = norm(needle)\n",
    "    similarity_scores = []\n",
    "    for idx, iteam in enumerate(haystack):\n",
    "        if len(iteam) == len(needle):  # Ensure dimensions match before calculation\n",
    "            score = np.dot(needle, iteam) / (needle_norm * norm(iteam))\n",
    "            similarity_scores.append((score, idx))\n",
    "        else:\n",
    "            print(f\"Skipping embedding at index {idx} due to shape mismatch.\")\n",
    "    return sorted(similarity_scores, reverse=True)"
   ]
  },
  {
   "cell_type": "code",
   "execution_count": 40,
   "metadata": {},
   "outputs": [],
   "source": [
    "import numpy as np\n",
    "from numpy.linalg import norm\n",
    "\n",
    "def euclidean_distance(v1, v2):\n",
    "    \"\"\"Calculate the Euclidean distance between two vectors.\"\"\"\n",
    "    v1 = np.array(v1)  # Convert to NumPy array if not already\n",
    "    v2 = np.array(v2)  # Convert to NumPy array if not already\n",
    "    return np.sqrt(np.sum((v1 - v2) ** 2))\n",
    "\n",
    "def find_most_similar_euclidean(needle, haystack):\n",
    "    \"\"\"\n",
    "    Find the most similar items in haystack to the needle using Euclidean distance.\n",
    "    \n",
    "    Parameters:\n",
    "    - needle: The query vector (embedding) to compare.\n",
    "    - haystack: List of vectors (embeddings) to compare against.\n",
    "    \n",
    "    Returns:\n",
    "    - A sorted list of tuples containing the distance and the index of the most similar items.\n",
    "    \"\"\"\n",
    "    similarity_scores = []\n",
    "    for idx, iteam in enumerate(haystack):\n",
    "        if len(iteam) == len(needle):\n",
    "            score = euclidean_distance(needle, iteam)\n",
    "            similarity_scores.append((score, idx))\n",
    "        else:\n",
    "            print(f\"Skipping embedding at index {idx} due to shape mismatch.\")\n",
    "    return sorted(similarity_scores)"
   ]
  },
  {
   "cell_type": "code",
   "execution_count": 41,
   "metadata": {},
   "outputs": [],
   "source": [
    "embedding = make_embedding_and_save('embedding.json',\"nomic-embed-text\", dataframe.text)"
   ]
  },
  {
   "cell_type": "code",
   "execution_count": 42,
   "metadata": {},
   "outputs": [
    {
     "name": "stdout",
     "output_type": "stream",
     "text": [
      "0.7923275532661243 • The state legislated safety requirements only in specific industries, had inadequate safety and health standards, and had inadequate budgets for enforcement. . . . The injury and death toll due to industrial mishaps was still . . . too high. • In the late 1960s, more than 14,000 employees were killed annually in connection with their jobs. . . . Work injury rates were taking an upward swing. These were the primary reasons behind passage of the Occupational  Safety and Health Act (OSH Act) of 1970 and the Federal Mine Safety  Act of 1977\n",
      "0.6264882726838171 GOALS The Government firmly believes that building and maintaining national preventive safety and health culture is the need of the hour. With a view to develop such a culture and to improve the safety, health and environment at work place, it is essential to meet the following requirements:- • providing a statutory framework on Occupational Safety and Health in respect of all sectors of industrial activities including the construction sector, designing suitable control systems of compliance, enforcement and incentives for better compliance. • providing administrative and technical support services. • providing a system of incentives to employers and employees to achieve higher health and safety standards . • establishing and developing the research and development capability in emerging areas of risk and providing for effective control measures.\n",
      "0.5490404401347874 OSHA’S MISSION AND PURPOSE • Encourage employers and employees to reduce workplace hazards. • Implement new safety and health programs. • Improve existing safety and health programs. • Encourage research that will lead to innovative ways of dealing with workplace safety and health problems. • Establish the rights of employers regarding the improvement of workplace safety and health. • Establish the rights of employees regarding the improvement of workplace safety and health.\n"
     ]
    }
   ],
   "source": [
    "prompt=\"\"\"Government of India \n",
    "Ministry of Labour and Employment\"\"\"\n",
    "prompt_embeddings = ollama.embeddings(model=\"nomic-embed-text\",prompt=prompt)['embedding']\n",
    "most_similar_chunks = find_most_similar(prompt_embeddings,embedding)[:3]\n",
    "for iteam in most_similar_chunks:\n",
    "    print(iteam[0], dataframe.text[iteam[1]])"
   ]
  },
  {
   "cell_type": "code",
   "execution_count": 43,
   "metadata": {},
   "outputs": [
    {
     "name": "stdout",
     "output_type": "stream",
     "text": [
      "Index: 25, Distance: 13.201990703054639, Content: • The state legislated safety requirements only in specific industries, had inadequate safety and health standards, and had inadequate budgets for enforcement. . . . The injury and death toll due to industrial mishaps was still . . . too high. • In the late 1960s, more than 14,000 employees were killed annually in connection with their jobs. . . . Work injury rates were taking an upward swing. These were the primary reasons behind passage of the Occupational  Safety and Health Act (OSH Act) of 1970 and the Federal Mine Safety  Act of 1977\n",
      "Index: 29, Distance: 17.43305908358347, Content: GOALS The Government firmly believes that building and maintaining national preventive safety and health culture is the need of the hour. With a view to develop such a culture and to improve the safety, health and environment at work place, it is essential to meet the following requirements:- • providing a statutory framework on Occupational Safety and Health in respect of all sectors of industrial activities including the construction sector, designing suitable control systems of compliance, enforcement and incentives for better compliance. • providing administrative and technical support services. • providing a system of incentives to employers and employees to achieve higher health and safety standards . • establishing and developing the research and development capability in emerging areas of risk and providing for effective control measures.\n",
      "Index: 27, Distance: 18.9954342060685, Content: National Safety Policy\n",
      "Index: 17, Distance: 19.291216001562606, Content: • The Industrial Revolution changed forever the methods of producing goods. • According to J. LaDou, the changes in production brought about by the Industrial Revolution can be summarized as follows: • Introduction of inanimate power (i.e., steam power) to replace people and animal power • Substitution of machines for people • Introduction of new methods for converting raw materials • Organization and specialization of work, resulting in a division of labor\n",
      "Index: 37, Distance: 19.364676123249346, Content: OSHA’S MISSION AND PURPOSE • Encourage employers and employees to reduce workplace hazards. • Implement new safety and health programs. • Improve existing safety and health programs. • Encourage research that will lead to innovative ways of dealing with workplace safety and health problems. • Establish the rights of employers regarding the improvement of workplace safety and health. • Establish the rights of employees regarding the improvement of workplace safety and health.\n",
      "Index: 28, Distance: 19.53212412608421, Content: Government of India  Ministry of Labour and Employment  The Directive Principles provided • for securing the health and strength of employees, men and women; • that the tender age of children are not abused; • that citizens are not forced by economic necessity to enter avocations unsuited to their age or strength; • just and humane conditions of work and maternity relief are provided; and • that the Government shall take steps, by suitable legislation or in any other way, to secure the participation of employee in the management of undertakings, establishments or other organisations engaged in any industry.\n",
      "Index: 54, Distance: 19.639202727450556, Content: Safety programs were based on the three E’s of safety:  1. Engineering,  2. Education,  3. Enforcement\n",
      "Index: 35, Distance: 19.648411035335826, Content: Congress passed the OSH Act with the following stated purpose: “To assure so far as possible every working man and woman in the  nation safe and healthful working conditions and to preserve our  human resources.”\n",
      "Index: 33, Distance: 19.70526732615159, Content: • by amending expeditiously existing laws relating to safety, health and environment and bring them in line with the relevant international instruments; • by monitoring the adoption of national standards through regulatory authorities; • by facilitating the sharing of best practices and experiences between national and international regulatory authorities; • by developing new and innovative enforcement methods including financial incentives that encourage and ensure improved workplace performance; • by making an enabling legislation on Safety, Health and Environment at Workplaces; • by setting up safety and health committees wherever deemed appropriate;\n",
      "Index: 47, Distance: 19.768753212106798, Content: Training • To employees and employers • Describes the importance of MSDS\n"
     ]
    }
   ],
   "source": [
    "prompt=\"\"\"Government of India \n",
    "Ministry of Labour and Employment\"\"\"\n",
    "prompt_embeddings = ollama.embeddings(model=\"nomic-embed-text\",prompt=prompt)['embedding']\n",
    "most_similar_euclidean = find_most_similar_euclidean(prompt_embeddings, embedding)[:10]\n",
    "for score, idx in most_similar_euclidean:\n",
    "    content = dataframe.text.iloc[idx]  # Retrieve the content from the DataFrame\n",
    "    print(f\"Index: {idx}, Distance: {score}, Content: {content}\")"
   ]
  }
 ],
 "metadata": {
  "kernelspec": {
   "display_name": "Python 3",
   "language": "python",
   "name": "python3"
  },
  "language_info": {
   "codemirror_mode": {
    "name": "ipython",
    "version": 3
   },
   "file_extension": ".py",
   "mimetype": "text/x-python",
   "name": "python",
   "nbconvert_exporter": "python",
   "pygments_lexer": "ipython3",
   "version": "3.11.9"
  }
 },
 "nbformat": 4,
 "nbformat_minor": 2
}
